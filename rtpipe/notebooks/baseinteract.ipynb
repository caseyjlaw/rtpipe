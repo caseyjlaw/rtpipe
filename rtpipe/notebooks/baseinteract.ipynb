{
 "cells": [
  {
   "cell_type": "markdown",
   "metadata": {
    "urth": {
     "dashboard": {
      "layout": {
       "col": 0,
       "height": 4,
       "row": 0,
       "width": 4
      }
     }
    }
   },
   "source": [
    "# realfast analysis"
   ]
  },
  {
   "cell_type": "code",
   "execution_count": null,
   "metadata": {
    "collapsed": false,
    "scrolled": false,
    "urth": {
     "dashboard": {
      "hidden": true
     }
    }
   },
   "outputs": [],
   "source": [
    "import logging\n",
    "logger = logging.getLogger()\n",
    "for hdlr in logger.handlers:\n",
    "    logger.removeHandler(hdlr)\n",
    "logging.basicConfig()\n",
    "\n",
    "from bokeh.plotting import output_notebook\n",
    "from rtpipe import interactive, nbpipeline\n",
    "from ipywidgets import Button, Output, VBox\n",
    "from IPython.display import display\n",
    "\n",
    "# following needed for classifier\n",
    "import os\n",
    "import activegit\n",
    "import numpy as np"
   ]
  },
  {
   "cell_type": "code",
   "execution_count": null,
   "metadata": {
    "collapsed": false,
    "scrolled": false,
    "urth": {
     "dashboard": {
      "hidden": true
     }
    }
   },
   "outputs": [],
   "source": [
    "output_notebook()"
   ]
  },
  {
   "cell_type": "code",
   "execution_count": null,
   "metadata": {
    "collapsed": false
   },
   "outputs": [],
   "source": [
    "candsfile, noisefile, fileroot = interactive.initializenb()\n",
    "statedir = fileroot+'.ipynb-state'\n",
    "state = nbpipeline.state(statedir)"
   ]
  },
  {
   "cell_type": "markdown",
   "metadata": {
    "urth": {
     "dashboard": {
      "hidden": true
     }
    }
   },
   "source": [
    "### Prepare data and noise plot"
   ]
  },
  {
   "cell_type": "code",
   "execution_count": null,
   "metadata": {
    "collapsed": false,
    "scrolled": false,
    "urth": {
     "dashboard": {
      "hidden": true
     }
    }
   },
   "outputs": [],
   "source": [
    "loc, prop, d = interactive.read_candidates(candsfile, returnstate=True)\n",
    "data = interactive.readdata(d=d, cands=(loc, prop))"
   ]
  },
  {
   "cell_type": "markdown",
   "metadata": {},
   "source": [
    "### Calculate classifier score from latest training set"
   ]
  },
  {
   "cell_type": "code",
   "execution_count": null,
   "metadata": {
    "collapsed": false,
    "scrolled": false
   },
   "outputs": [],
   "source": [
    "try:\n",
    "    agdir = os.environ['agdir']\n",
    "except KeyError:\n",
    "    home = os.environ['HOME']\n",
    "    agdir = os.path.join(home, 'code', 'alnotebook')\n",
    "\n",
    "if agdir:\n",
    "    data['score'] = interactive.addclassifications(agdir, prop)\n",
    "else:\n",
    "    print('No agdir defined, so no score calculated.')"
   ]
  },
  {
   "cell_type": "markdown",
   "metadata": {
    "urth": {
     "dashboard": {
      "hidden": true
     }
    }
   },
   "source": [
    "### Remove bad times and cands, then calculate indices"
   ]
  },
  {
   "cell_type": "code",
   "execution_count": null,
   "metadata": {
    "collapsed": false,
    "scrolled": false,
    "urth": {
     "dashboard": {
      "layout": {
       "col": 4,
       "height": 6,
       "row": 0,
       "width": 7
      }
     }
    }
   },
   "outputs": [],
   "source": [
    "plinds = {'cir': [], 'cro': [], 'edg': []}  # initialize plot symbols\n",
    "state.setFloat('threshold', default=15, min=5, max=20, description='Threshold to find bad times')\n",
    "state.setText('ignorestr', default='', description='Times to ignore (comma-delimited)')"
   ]
  },
  {
   "cell_type": "code",
   "execution_count": null,
   "metadata": {
    "collapsed": false
   },
   "outputs": [],
   "source": [
    "interactive.filterdata(data=data, plinds=plinds, d=d, threshold=state.load('threshold'),\n",
    "                       ignorestr=state.load('ignorestr'))"
   ]
  },
  {
   "cell_type": "markdown",
   "metadata": {},
   "source": [
    "### Generate candidate and noise plots"
   ]
  },
  {
   "cell_type": "code",
   "execution_count": null,
   "metadata": {
    "collapsed": false
   },
   "outputs": [],
   "source": [
    "state.setDropdown('scaling', default='snrs_3', options=['snrs_3', 'snrs_5', 'score_5', 'score_7'],\n",
    "                        description='Symbol size scaling (\"source_powerlaw\")')\n",
    "state.setDropdown('plottype', default='all', options=['all', 'dmt', 'norm', 'loc', 'stat'],\n",
    "                       description='Type of plot to make')"
   ]
  },
  {
   "cell_type": "code",
   "execution_count": null,
   "metadata": {
    "collapsed": false
   },
   "outputs": [],
   "source": [
    "interactive.displayplot(data, plinds, state.load('plottype'), state.load('scaling'), fileroot,\n",
    "                        url_path='http://www.aoc.nrao.edu/~claw/plots')"
   ]
  },
  {
   "cell_type": "code",
   "execution_count": null,
   "metadata": {
    "collapsed": false,
    "scrolled": false
   },
   "outputs": [],
   "source": [
    "noiseplot = interactive.plotnoise(noisefile, candsfile, plot_width=900, plot_height=450)"
   ]
  },
  {
   "cell_type": "markdown",
   "metadata": {},
   "source": [
    "### Comments"
   ]
  },
  {
   "cell_type": "code",
   "execution_count": null,
   "metadata": {
    "collapsed": true
   },
   "outputs": [],
   "source": [
    "state.setText('comments')"
   ]
  },
  {
   "cell_type": "code",
   "execution_count": null,
   "metadata": {
    "collapsed": false
   },
   "outputs": [],
   "source": [
    "state.objects"
   ]
  },
  {
   "cell_type": "markdown",
   "metadata": {
    "collapsed": true,
    "urth": {
     "dashboard": {
      "hidden": true
     }
    }
   },
   "source": [
    "### Optional refinement analysis\n",
    "#### Requires download data from archive into working directory"
   ]
  },
  {
   "cell_type": "code",
   "execution_count": null,
   "metadata": {
    "collapsed": true
   },
   "outputs": [],
   "source": []
  }
 ],
 "metadata": {
  "kernelspec": {
   "display_name": "Python 2",
   "language": "python",
   "name": "python2"
  },
  "language_info": {
   "codemirror_mode": {
    "name": "ipython",
    "version": 2
   },
   "file_extension": ".py",
   "mimetype": "text/x-python",
   "name": "python",
   "nbconvert_exporter": "python",
   "pygments_lexer": "ipython2",
   "version": "2.7.11"
  },
  "urth": {
   "dashboard": {
    "cellMargin": 10,
    "defaultCellHeight": 20,
    "layoutStrategy": "packed",
    "maxColumns": 12
   }
  },
  "widgets": {
   "state": {},
   "version": "1.1.1"
  }
 },
 "nbformat": 4,
 "nbformat_minor": 0
}
